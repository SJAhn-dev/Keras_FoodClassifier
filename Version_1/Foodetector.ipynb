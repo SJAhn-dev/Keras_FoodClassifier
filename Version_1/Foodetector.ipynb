{
 "cells": [
  {
   "cell_type": "code",
   "execution_count": 29,
   "metadata": {
    "scrolled": false
   },
   "outputs": [
    {
     "name": "stdout",
     "output_type": "stream",
     "text": [
      "apple_pie 파일 길이 :  1000\n",
      "bibimbap 파일 길이 :  1000\n",
      "burrito 파일 길이 :  1000\n",
      "cheesecake 파일 길이 :  1000\n",
      "chicken 파일 길이 :  1000\n",
      "chocolate_cake 파일 길이 :  1000\n",
      "churros 파일 길이 :  1000\n",
      "cup_cakes 파일 길이 :  1000\n",
      "curry 파일 길이 :  1000\n",
      "dimsum 파일 길이 :  1000\n",
      "donuts 파일 길이 :  1000\n",
      "french_fries 파일 길이 :  1000\n",
      "fried_rice 파일 길이 :  1000\n",
      "garlic_bread 파일 길이 :  1000\n",
      "gyoza 파일 길이 :  1000\n",
      "hamburger 파일 길이 :  1000\n",
      "honey_bread 파일 길이 :  1000\n",
      "hot_dog 파일 길이 :  1000\n",
      "ice_cream 파일 길이 :  1000\n",
      "macarons 파일 길이 :  1000\n",
      "miso_soup 파일 길이 :  1000\n",
      "nachos 파일 길이 :  1000\n",
      "omelette 파일 길이 :  1000\n",
      "onion_rings 파일 길이 :  1000\n",
      "pancakes 파일 길이 :  1000\n",
      "pho 파일 길이 :  1000\n",
      "pizza 파일 길이 :  1000\n",
      "prime_rib 파일 길이 :  1000\n",
      "quesadilla 파일 길이 :  1000\n",
      "ramen 파일 길이 :  1000\n",
      "salad 파일 길이 :  1000\n",
      "sandwich 파일 길이 :  1000\n",
      "sashimi 파일 길이 :  1000\n",
      "soup 파일 길이 :  1000\n",
      "spaghetti_bolognese 파일 길이 :  1000\n",
      "spaghetti_carbonara 파일 길이 :  1000\n",
      "steak 파일 길이 :  1000\n",
      "strawberry_shortcake 파일 길이 :  1000\n",
      "sushi 파일 길이 :  1000\n",
      "tacos 파일 길이 :  1000\n",
      "takoyaki 파일 길이 :  1000\n",
      "tiramisu 파일 길이 :  1000\n",
      "toast 파일 길이 :  1000\n",
      "waffles 파일 길이 :  1000\n",
      "yogurt 파일 길이 :  1000\n",
      "xy ready\n"
     ]
    }
   ],
   "source": [
    "from PIL import Image\n",
    "import os, glob, numpy as np\n",
    "from sklearn.model_selection import train_test_split\n",
    "import pickle\n",
    "\n",
    "caltech_dir = \"food/images\"\n",
    "categories = [\"apple_pie\", \"bibimbap\", \"burrito\", \"cheesecake\", \"chicken\", \"chocolate_cake\",\n",
    "             \"churros\", \"cup_cakes\", \"curry\", \"dimsum\", \"donuts\", \"french_fries\", \"fried_rice\", \"garlic_bread\",\n",
    "              \"gyoza\", \"hamburger\", \"honey_bread\", \"hot_dog\", \"ice_cream\", \"macarons\", \"miso_soup\", \"nachos\",\n",
    "              \"omelette\", \"onion_rings\", \"pancakes\", \"pho\", \"pizza\", \"prime_rib\", \"quesadilla\", \"ramen\", \"salad\", \"sandwich\",\n",
    "              \"sashimi\", \"soup\", \"spaghetti_bolognese\", \"spaghetti_carbonara\", \"steak\", \"strawberry_shortcake\", \"sushi\", \"tacos\",\n",
    "              \"takoyaki\", \"tiramisu\", \"toast\", \"waffles\", \"yogurt\"]\n",
    "nb_classes = len(categories)\n",
    "\n",
    "image_w, image_h = 64, 64\n",
    "pixels = image_w * image_h * 3 \n",
    "\n",
    "X, y = [], []\n",
    "\n",
    "for idx, cat in enumerate(categories):\n",
    "    label = [0 for i in range(nb_classes)]\n",
    "    label[idx] = 1\n",
    "    \n",
    "    image_dir = caltech_dir + \"/\" + cat\n",
    "    files = glob.glob(image_dir+\"/*.jpg\")\n",
    "    print(cat, \"파일 길이 : \", len(files))\n",
    "    for i, f in enumerate(files):\n",
    "        img = Image.open(f)\n",
    "        img = img.convert(\"RGB\")\n",
    "        img = img.resize((image_w, image_h))\n",
    "        data = np.asarray(img)\n",
    "        \n",
    "        X.append(data)\n",
    "        y.append(label)\n",
    "            \n",
    "X = np.array(X)\n",
    "y = np.array(y)\n",
    "X_train, X_test, y_train, y_test = train_test_split(X,y, test_size=0.2)\n",
    "xy = (X_train, X_test, y_train, y_test)\n",
    "\n",
    "print(\"xy ready\")"
   ]
  },
  {
   "cell_type": "code",
   "execution_count": 30,
   "metadata": {
    "scrolled": true
   },
   "outputs": [
    {
     "name": "stdout",
     "output_type": "stream",
     "text": [
      "ok 45000\n"
     ]
    }
   ],
   "source": [
    "pickle.dump(xy, open(\"multi_image_data_64.npy\", 'wb'), protocol=4)\n",
    "\n",
    "print(\"ok\", len(y))"
   ]
  },
  {
   "cell_type": "code",
   "execution_count": 31,
   "metadata": {},
   "outputs": [
    {
     "name": "stdout",
     "output_type": "stream",
     "text": [
      "(36000, 64, 64, 3)\n",
      "36000\n"
     ]
    }
   ],
   "source": [
    "import os, glob, numpy as np\n",
    "from keras.models import Sequential\n",
    "from keras.layers import Conv2D, MaxPooling2D, Dense, Flatten, Dropout\n",
    "from keras.callbacks import EarlyStopping, ModelCheckpoint\n",
    "import matplotlib.pyplot as plt\n",
    "import tensorflow as tf\n",
    "import tensorflow.keras.backend as K\n",
    "\n",
    "config = tf.compat.v1.ConfigProto()\n",
    "config.gpu_options.allow_growth = True\n",
    "session = tf.compat.v1.Session(config=config)\n",
    "\n",
    "X_train, X_test, y_train, y_test = np.load('multi_image_data_64.npy', allow_pickle=True)\n",
    "print(X_train.shape)\n",
    "print(X_train.shape[0])"
   ]
  },
  {
   "cell_type": "code",
   "execution_count": 32,
   "metadata": {},
   "outputs": [
    {
     "name": "stdout",
     "output_type": "stream",
     "text": [
      "OK\n"
     ]
    }
   ],
   "source": [
    "categories = [\"apple_pie\", \"bibimbap\", \"burrito\", \"cheesecake\", \"chicken\", \"chocolate_cake\",\n",
    "             \"churros\", \"cup_cakes\", \"curry\", \"dimsum\", \"donuts\", \"french_fries\", \"fried_rice\", \"garlic_bread\",\n",
    "              \"gyoza\", \"hamburger\", \"honey_bread\", \"hot_dog\", \"ice_cream\", \"macarons\", \"miso_soup\", \"nachos\",\n",
    "              \"omelette\", \"onion_rings\", \"pancakes\", \"pho\", \"pizza\", \"prime_rib\", \"quesadilla\", \"ramen\", \"salad\", \"sandwich\",\n",
    "              \"sashimi\", \"soup\", \"spaghetti_bolognese\", \"spaghetti_carbonara\", \"steak\", \"strawberry_shortcake\", \"sushi\", \"tacos\",\n",
    "              \"takoyaki\", \"tiramisu\", \"toast\", \"waffles\", \"yogurt\"]\n",
    "nb_classes = len(categories)\n",
    "\n",
    "# 정규화\n",
    "X_train = X_train.astype(float) / 255.0\n",
    "X_test = X_test.astype(float) / 255.0\n",
    "\n",
    "print(\"OK\")"
   ]
  },
  {
   "cell_type": "code",
   "execution_count": 33,
   "metadata": {},
   "outputs": [
    {
     "name": "stdout",
     "output_type": "stream",
     "text": [
      "Model: \"sequential_5\"\n",
      "_________________________________________________________________\n",
      "Layer (type)                 Output Shape              Param #   \n",
      "=================================================================\n",
      "conv2d_9 (Conv2D)            (None, 64, 64, 32)        896       \n",
      "_________________________________________________________________\n",
      "max_pooling2d_8 (MaxPooling2 (None, 32, 32, 32)        0         \n",
      "_________________________________________________________________\n",
      "dropout_12 (Dropout)         (None, 32, 32, 32)        0         \n",
      "_________________________________________________________________\n",
      "conv2d_10 (Conv2D)           (None, 32, 32, 64)        18496     \n",
      "_________________________________________________________________\n",
      "max_pooling2d_9 (MaxPooling2 (None, 16, 16, 64)        0         \n",
      "_________________________________________________________________\n",
      "dropout_13 (Dropout)         (None, 16, 16, 64)        0         \n",
      "_________________________________________________________________\n",
      "flatten_4 (Flatten)          (None, 16384)             0         \n",
      "_________________________________________________________________\n",
      "dense_8 (Dense)              (None, 256)               4194560   \n",
      "_________________________________________________________________\n",
      "dropout_14 (Dropout)         (None, 256)               0         \n",
      "_________________________________________________________________\n",
      "dense_9 (Dense)              (None, 45)                11565     \n",
      "=================================================================\n",
      "Total params: 4,225,517\n",
      "Trainable params: 4,225,517\n",
      "Non-trainable params: 0\n",
      "_________________________________________________________________\n"
     ]
    }
   ],
   "source": [
    "with tf.device(\"/gpu:0\"):\n",
    "    model = Sequential()\n",
    "    model.add(Conv2D(32, (3,3), padding=\"same\", input_shape=X_train.shape[1:], activation='relu'))\n",
    "    model.add(MaxPooling2D(pool_size=(2,2)))\n",
    "    model.add(Dropout(0.25))\n",
    "    \n",
    "    model.add(Conv2D(64, (3,3), padding=\"same\", activation='relu'))\n",
    "    model.add(MaxPooling2D(pool_size=(2,2)))\n",
    "    model.add(Dropout(0.25))\n",
    "    \n",
    "    model.add(Flatten())\n",
    "    model.add(Dense(256, activation='relu'))\n",
    "    model.add(Dropout(0.5))\n",
    "    model.add(Dense(nb_classes, activation='softmax'))\n",
    "    model.compile(loss='categorical_crossentropy', optimizer='rmsprop', metrics=['accuracy'])\n",
    "    model_dir = './model'\n",
    "    \n",
    "    if not os.path.exists(model_dir):\n",
    "        os.mkdir(model_dir)\n",
    "    \n",
    "    model_path = model_dir + '/multi_img_classification.model'\n",
    "    checkpoint = ModelCheckpoint(filepath=model_path , monitor='val_loss', verbose=1, save_best_only=True)\n",
    "    early_stopping = EarlyStopping(monitor='val_loss', patience=6)\n",
    "    \n",
    "model.summary()"
   ]
  },
  {
   "cell_type": "code",
   "execution_count": 34,
   "metadata": {
    "scrolled": false
   },
   "outputs": [
    {
     "name": "stdout",
     "output_type": "stream",
     "text": [
      "Epoch 1/50\n",
      "563/563 [==============================] - 71s 123ms/step - loss: 3.7952 - accuracy: 0.0441 - val_loss: 3.4410 - val_accuracy: 0.1358\n",
      "\n",
      "Epoch 00001: val_loss improved from inf to 3.44097, saving model to ./model\\multi_img_classification.model\n",
      "INFO:tensorflow:Assets written to: ./model\\multi_img_classification.model\\assets\n",
      "Epoch 2/50\n",
      "563/563 [==============================] - 69s 123ms/step - loss: 3.3845 - accuracy: 0.1269 - val_loss: 3.1724 - val_accuracy: 0.1787\n",
      "\n",
      "Epoch 00002: val_loss improved from 3.44097 to 3.17239, saving model to ./model\\multi_img_classification.model\n",
      "INFO:tensorflow:Assets written to: ./model\\multi_img_classification.model\\assets\n",
      "Epoch 3/50\n",
      "563/563 [==============================] - 71s 126ms/step - loss: 3.1591 - accuracy: 0.1785 - val_loss: 3.0791 - val_accuracy: 0.2042\n",
      "\n",
      "Epoch 00003: val_loss improved from 3.17239 to 3.07913, saving model to ./model\\multi_img_classification.model\n",
      "INFO:tensorflow:Assets written to: ./model\\multi_img_classification.model\\assets\n",
      "Epoch 4/50\n",
      "563/563 [==============================] - 69s 123ms/step - loss: 2.9948 - accuracy: 0.2130 - val_loss: 2.9420 - val_accuracy: 0.2387\n",
      "\n",
      "Epoch 00004: val_loss improved from 3.07913 to 2.94197, saving model to ./model\\multi_img_classification.model\n",
      "INFO:tensorflow:Assets written to: ./model\\multi_img_classification.model\\assets\n",
      "Epoch 5/50\n",
      "563/563 [==============================] - 69s 122ms/step - loss: 2.8753 - accuracy: 0.2405 - val_loss: 2.8706 - val_accuracy: 0.2537\n",
      "\n",
      "Epoch 00005: val_loss improved from 2.94197 to 2.87061, saving model to ./model\\multi_img_classification.model\n",
      "INFO:tensorflow:Assets written to: ./model\\multi_img_classification.model\\assets\n",
      "Epoch 6/50\n",
      "563/563 [==============================] - 68s 121ms/step - loss: 2.7752 - accuracy: 0.2614 - val_loss: 2.8171 - val_accuracy: 0.2610\n",
      "\n",
      "Epoch 00006: val_loss improved from 2.87061 to 2.81709, saving model to ./model\\multi_img_classification.model\n",
      "INFO:tensorflow:Assets written to: ./model\\multi_img_classification.model\\assets\n",
      "Epoch 7/50\n",
      "563/563 [==============================] - 69s 122ms/step - loss: 2.6882 - accuracy: 0.2866 - val_loss: 2.8294 - val_accuracy: 0.2536\n",
      "\n",
      "Epoch 00007: val_loss did not improve from 2.81709\n",
      "Epoch 8/50\n",
      "563/563 [==============================] - 69s 123ms/step - loss: 2.5977 - accuracy: 0.3018 - val_loss: 2.8733 - val_accuracy: 0.2597\n",
      "\n",
      "Epoch 00008: val_loss did not improve from 2.81709\n",
      "Epoch 9/50\n",
      "563/563 [==============================] - 69s 123ms/step - loss: 2.5436 - accuracy: 0.3153 - val_loss: 2.8131 - val_accuracy: 0.2663\n",
      "\n",
      "Epoch 00009: val_loss improved from 2.81709 to 2.81314, saving model to ./model\\multi_img_classification.model\n",
      "INFO:tensorflow:Assets written to: ./model\\multi_img_classification.model\\assets\n",
      "Epoch 10/50\n",
      "563/563 [==============================] - 71s 126ms/step - loss: 2.5083 - accuracy: 0.3295 - val_loss: 2.8179 - val_accuracy: 0.2667\n",
      "\n",
      "Epoch 00010: val_loss did not improve from 2.81314\n",
      "Epoch 11/50\n",
      "563/563 [==============================] - 71s 126ms/step - loss: 2.4405 - accuracy: 0.3414 - val_loss: 2.9206 - val_accuracy: 0.2451\n",
      "\n",
      "Epoch 00011: val_loss did not improve from 2.81314\n",
      "Epoch 12/50\n",
      "563/563 [==============================] - 69s 122ms/step - loss: 2.4080 - accuracy: 0.3526 - val_loss: 2.7967 - val_accuracy: 0.2697\n",
      "\n",
      "Epoch 00012: val_loss improved from 2.81314 to 2.79666, saving model to ./model\\multi_img_classification.model\n",
      "INFO:tensorflow:Assets written to: ./model\\multi_img_classification.model\\assets\n",
      "Epoch 13/50\n",
      "563/563 [==============================] - 70s 124ms/step - loss: 2.3714 - accuracy: 0.3561 - val_loss: 2.8235 - val_accuracy: 0.2674\n",
      "\n",
      "Epoch 00013: val_loss did not improve from 2.79666\n",
      "Epoch 14/50\n",
      "563/563 [==============================] - 70s 125ms/step - loss: 2.3559 - accuracy: 0.3676 - val_loss: 2.9172 - val_accuracy: 0.2423\n",
      "\n",
      "Epoch 00014: val_loss did not improve from 2.79666\n",
      "Epoch 15/50\n",
      "563/563 [==============================] - 71s 126ms/step - loss: 2.3634 - accuracy: 0.3648 - val_loss: 2.8058 - val_accuracy: 0.2698\n",
      "\n",
      "Epoch 00015: val_loss did not improve from 2.79666\n",
      "Epoch 16/50\n",
      "563/563 [==============================] - 71s 126ms/step - loss: 2.3279 - accuracy: 0.3727 - val_loss: 2.8106 - val_accuracy: 0.2719\n",
      "\n",
      "Epoch 00016: val_loss did not improve from 2.79666\n",
      "Epoch 17/50\n",
      "563/563 [==============================] - 70s 125ms/step - loss: 2.3145 - accuracy: 0.3751 - val_loss: 3.1169 - val_accuracy: 0.1897\n",
      "\n",
      "Epoch 00017: val_loss did not improve from 2.79666\n",
      "Epoch 18/50\n",
      "563/563 [==============================] - 72s 128ms/step - loss: 2.2773 - accuracy: 0.3872 - val_loss: 2.9359 - val_accuracy: 0.2350\n",
      "\n",
      "Epoch 00018: val_loss did not improve from 2.79666\n"
     ]
    }
   ],
   "source": [
    "history = model.fit(X_train, y_train, batch_size=64, epochs=50, validation_data=(X_test, y_test), callbacks=[checkpoint, early_stopping])"
   ]
  },
  {
   "cell_type": "code",
   "execution_count": 35,
   "metadata": {
    "scrolled": false
   },
   "outputs": [
    {
     "name": "stdout",
     "output_type": "stream",
     "text": [
      "282/282 [==============================] - 3s 12ms/step - loss: 2.9359 - accuracy: 0.2350\n",
      "정확도 : 0.2350\n"
     ]
    }
   ],
   "source": [
    "print(\"정확도 : %.4f\" % (model.evaluate(X_test, y_test)[1]))"
   ]
  },
  {
   "cell_type": "code",
   "execution_count": 36,
   "metadata": {},
   "outputs": [
    {
     "data": {
      "image/png": "[encoded data removed]",
      "text/plain": [
       "<Figure size 432x288 with 1 Axes>"
      ]
     },
     "metadata": {
      "needs_background": "light"
     },
     "output_type": "display_data"
    }
   ],
   "source": [
    "y_vloss = history.history['val_loss']\n",
    "y_loss = history.history['loss']\n",
    "\n",
    "x_len = np.arange(len(y_loss))\n",
    "\n",
    "plt.plot(x_len, y_vloss, marker='.', c='red', label='val_set_loss')\n",
    "plt.plot(x_len, y_loss, marker='.', c='blue', label='train_set_oss')\n",
    "plt.legend()\n",
    "plt.xlabel('epochs')\n",
    "plt.ylabel('loss')\n",
    "plt.grid()\n",
    "plt.show()\n"
   ]
  },
  {
   "cell_type": "code",
   "execution_count": null,
   "metadata": {},
   "outputs": [],
   "source": []
  }
 ],
 "metadata": {
  "kernelspec": {
   "display_name": "Python 3",
   "language": "python",
   "name": "python3"
  },
  "language_info": {
   "codemirror_mode": {
    "name": "ipython",
    "version": 3
   },
   "file_extension": ".py",
   "mimetype": "text/x-python",
   "name": "python",
   "nbconvert_exporter": "python",
   "pygments_lexer": "ipython3",
   "version": "3.8.5"
  }
 },
 "nbformat": 4,
 "nbformat_minor": 4
}
